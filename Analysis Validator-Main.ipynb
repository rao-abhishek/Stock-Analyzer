{
 "cells": [
  {
   "cell_type": "code",
   "execution_count": null,
   "id": "c1161fca",
   "metadata": {},
   "outputs": [],
   "source": [
    "#imports\n",
    "\n",
    "import numpy as np \n",
    "import pandas as pd\n",
    "from pandas_datareader import data as pdr \n",
    "import pandas_datareader as web\n",
    "import matplotlib.pyplot as plt\n",
    "plt.style.use('fivethirtyeight')\n",
    "import mplfinance as mpf\n",
    "# Market Data \n",
    "import yfinance as yf\n",
    "from datetime import date\n",
    "from datetime import datetime as dt\n",
    "from datetime import timedelta\n",
    "from datetime import datetime\n",
    "import datetime\n",
    "import csv\n",
    "\n",
    "# Graphing / Visualization \n",
    "import plotly.graph_objs as go"
   ]
  },
  {
   "cell_type": "code",
   "execution_count": null,
   "id": "6ad38894",
   "metadata": {},
   "outputs": [],
   "source": [
    "#Importing Listed Companies data\n",
    "\n",
    "headcheck = 0\n",
    "tg_day=5\n",
    "tg_month=10\n",
    "tg_year=2022\n",
    "stock_date = datetime.datetime(tg_year, tg_month, tg_day)\n",
    "if(int(stock_date.strftime(\"%w\"))==1):\n",
    "    d = stock_date - timedelta(days=3)\n",
    "else:\n",
    "    d = stock_date - timedelta(days=1)\n",
    "#C:\\Users\\Abhishek Rao\\ML Project\\Beta-ML-Project-master\\Beta-ML-Project-master\\ALL NSE STOCKS\n",
    "stock_analysis = pd.read_csv('file:///C:/Users/Abhishek%20Rao/ML%20Project/Beta-ML-Project-master/Beta-ML-Project-master/Stock%20Analysis%20Result/add- StochRSI, '+d.strftime(\"%Y-%m-%d\")+' Analysis.csv')\n",
    "\n",
    "stock_analysis\n"
   ]
  },
  {
   "cell_type": "code",
   "execution_count": null,
   "id": "bccf291e",
   "metadata": {},
   "outputs": [],
   "source": [
    "#Importing the Top Gainers Possibilities\n",
    "\n",
    "pos_data = pd.read_csv('file:///C:/Users/Abhishek%20Rao/ML%20Project/Beta-ML-Project-master/Beta-ML-Project-master/Stock%20Analysis%20Result/add- StochRSI, Top Gainers Possibilities.csv')\n",
    "\n",
    "pos_data = pos_data.sort_values(by=['Occurence'] , ascending=False)\n",
    "#pos_data = pos_data.where(pos_data['Occurence']>1)\n",
    "pos_data = pos_data\n",
    "pos_data"
   ]
  },
  {
   "cell_type": "code",
   "execution_count": null,
   "id": "9c2cb0da",
   "metadata": {},
   "outputs": [],
   "source": [
    "gainer_stocks = pd.merge(stock_analysis,pos_data,left_on='Combined Factor',right_on='Possibilities')\n",
    "gainer_stocks"
   ]
  },
  {
   "cell_type": "code",
   "execution_count": null,
   "id": "d16338d6",
   "metadata": {},
   "outputs": [],
   "source": [
    "stock_symbol = list(gainer_stocks['Stock'])\n",
    "print(len(stock_symbol))\n",
    "stock_symbol"
   ]
  },
  {
   "cell_type": "code",
   "execution_count": null,
   "id": "487d305c",
   "metadata": {},
   "outputs": [],
   "source": [
    "print(stock_date+ timedelta(days=1))\n",
    "df = yf.download(tickers=stock_symbol, start=stock_date+ timedelta(days=1) , end=stock_date + timedelta(days=2), threads=True, group_by='tickers')\n",
    "stock_date"
   ]
  },
  {
   "cell_type": "code",
   "execution_count": null,
   "id": "e4d8f62e",
   "metadata": {},
   "outputs": [],
   "source": [
    "df = df[0:1]\n",
    "df"
   ]
  },
  {
   "cell_type": "code",
   "execution_count": null,
   "id": "83817f6c",
   "metadata": {},
   "outputs": [],
   "source": [
    "p=0\n",
    "l=0\n",
    "cc=0\n",
    "open_invest=0\n",
    "profit=0\n",
    "loss=0\n",
    "\n",
    "for i in stock_symbol:\n",
    "    if(float(df[i]['Open'])>20):\n",
    "            if(float(df[i]['Open'])<float(df[i]['Close'])):\n",
    "                cc+=1\n",
    "                open_invest+=float(df[i]['Open'])\n",
    "                print(cc,end=\". \")\n",
    "                print(\"Profit (Logic Working)\")\n",
    "                print(\"Stock: \"+i)\n",
    "                print(df[i]['Open'])\n",
    "                print(\"Profit :\",end=\" \")\n",
    "                print(float(df[i]['Close'])-float(df[i]['Open']),end=\"\\n\\n\")\n",
    "                profit+=float(df[i]['Close'])-float(df[i]['Open'])\n",
    "                p+=1\n",
    "            else:\n",
    "                cc+=1\n",
    "                open_invest+=float(df[i]['Open'])\n",
    "                print(cc,end=\". \")\n",
    "                print(\"Loss (Logic Not Working)\")\n",
    "                print(\"Stock: \"+i)\n",
    "                print(df[i]['Open'])\n",
    "                print(\"Loss :\",end=\" \")\n",
    "                print(float(df[i]['Close'])-float(df[i]['Open']),end=\"\\n\\n\")\n",
    "                loss+=float(df[i]['Close'])-float(df[i]['Open'])\n",
    "                l+=1\n",
    "    "
   ]
  },
  {
   "cell_type": "code",
   "execution_count": null,
   "id": "ac0e0f34",
   "metadata": {},
   "outputs": [],
   "source": [
    "print(\"Open Invest:\",end=\" \")\n",
    "print(open_invest)\n",
    "print(\"Profit: \"+str(profit))\n",
    "print(\"Loss: \"+str(loss))\n",
    "print(str(p)+\" Profits (Logic Working)\")\n",
    "print(str(l)+\" Losses (Logic Not Working)\")\n",
    "print((p/(p+l))*100,end=\"% Accuracy\")"
   ]
  },
  {
   "cell_type": "code",
   "execution_count": null,
   "id": "b17894be",
   "metadata": {},
   "outputs": [],
   "source": []
  }
 ],
 "metadata": {
  "kernelspec": {
   "display_name": "Python 3 (ipykernel)",
   "language": "python",
   "name": "python3"
  },
  "language_info": {
   "codemirror_mode": {
    "name": "ipython",
    "version": 3
   },
   "file_extension": ".py",
   "mimetype": "text/x-python",
   "name": "python",
   "nbconvert_exporter": "python",
   "pygments_lexer": "ipython3",
   "version": "3.7.9"
  }
 },
 "nbformat": 4,
 "nbformat_minor": 5
}
